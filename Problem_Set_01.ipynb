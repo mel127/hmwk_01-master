{
 "metadata": {
  "kernelspec": {
   "display_name": "Python 3",
   "language": "python",
   "name": "python3"
  },
  "language_info": {
   "codemirror_mode": {
    "name": "ipython",
    "version": 3
   },
   "file_extension": ".py",
   "mimetype": "text/x-python",
   "name": "python",
   "nbconvert_exporter": "python",
   "pygments_lexer": "ipython3",
   "version": "3.4.3"
  },
  "name": "",
  "signature": "sha256:97cf82ac95e8ff358369c6087110f8a908a39d5e0ac216c88720ac2c195126ea"
 },
 "nbformat": 3,
 "nbformat_minor": 0,
 "worksheets": [
  {
   "cells": [
    {
     "cell_type": "markdown",
     "metadata": {},
     "source": [
      "# PHYS 1321: Computational Methods in Physics\n",
      "## Problem Set 01 - Due Sep 4, 2015\n",
      "### Adapted from materials from Brian D'Urso\n",
      "\n",
      "* Fork and clone the GitHub repository for this assignment\n",
      "* Complete the following problems in your forked version of this iPython Notebook and commit and create a pull request to submit.\n",
      "  - I strongly encourage you to become familiar with the GitHub commit and push cycle early in the week.\n",
      "\n",
      "Your writeup in this iPython Notebook should include:\n",
      "\n",
      "1.  Answers to specific questions in the problem.\n",
      "2.  The parameters used to generate your results.\n",
      "3.  The text output of your code (use copy and paste), if it is not trivial.\n",
      "4.  Images of all plots your code produces.\n",
      " - [I don't anticipate plots from this first homework but the above will be the general boilerplate for assignments.]"
     ]
    },
    {
     "cell_type": "markdown",
     "metadata": {},
     "source": [
      "### Problem 1\n",
      "Show the result of evaluating the following expressions.  Be sure to indicate the correct type of the output (int, long int, or float).  While it's difficult to capture, I encourage you to think through in your head what you expect the answer to each to be.  If you are surprised by the results, explain what you learned.\n",
      "\n",
      "Specify and discuss whether you are using Python 2 or Python 3.\n",
      "\n",
      "1.  `4.0 / 10.0 + 3.5 * 2`\n",
      "2.  `10 % 4 + 6 / 2`\n",
      "3.  `abs(4 - 20 / 3) ** 3`\n",
      "4.  `3 * 10 / 3 + 10 % 3`\n",
      "5.  `1.00 - 0.95`\n",
      "6.  `0.95 + 0.05`\n",
      "7.  `5.3 % 5`\n",
      "8.  `5.6 % 5`\n",
      "9.  `2.3 % 2`\n",
      "10.  `2.6 % 2`  \n",
      "```from math import sqrt```\n",
      "11.  `sqrt(4.5 - 5.0) + 7 * 3`\n",
      "12.  `sqrt(5.0/3.0 - 10.0/6.0)`\n",
      "13.  `sqrt(5.6 % 5.0 - 2.6 % 2.0)`"
     ]
    },
    {
     "cell_type": "code",
     "collapsed": false,
     "input": [
      "### Using Python Version 3.4.3\n",
      "### Problem 1"
     ],
     "language": "python",
     "metadata": {},
     "outputs": [],
     "prompt_number": 52
    },
    {
     "cell_type": "code",
     "collapsed": false,
     "input": [
      "#1.1\n",
      "4.0 / 10.0 + 3.5 * 2"
     ],
     "language": "python",
     "metadata": {},
     "outputs": [
      {
       "metadata": {},
       "output_type": "pyout",
       "prompt_number": 53,
       "text": [
        "7.4"
       ]
      }
     ],
     "prompt_number": 53
    },
    {
     "cell_type": "code",
     "collapsed": false,
     "input": [
      "#1.2\n",
      "10 % 4 + 6 / 2"
     ],
     "language": "python",
     "metadata": {},
     "outputs": [
      {
       "metadata": {},
       "output_type": "pyout",
       "prompt_number": 54,
       "text": [
        "5"
       ]
      }
     ],
     "prompt_number": 54
    },
    {
     "cell_type": "code",
     "collapsed": false,
     "input": [
      "#1.3\n",
      "abs(4 - 20 / 3) ** 3"
     ],
     "language": "python",
     "metadata": {},
     "outputs": [
      {
       "metadata": {},
       "output_type": "pyout",
       "prompt_number": 55,
       "text": [
        "8"
       ]
      }
     ],
     "prompt_number": 55
    },
    {
     "cell_type": "code",
     "collapsed": false,
     "input": [
      "#1.4\n",
      "3 * 10 / 3 + 10 % 3"
     ],
     "language": "python",
     "metadata": {},
     "outputs": [
      {
       "metadata": {},
       "output_type": "pyout",
       "prompt_number": 56,
       "text": [
        "11"
       ]
      }
     ],
     "prompt_number": 56
    },
    {
     "cell_type": "code",
     "collapsed": false,
     "input": [
      "#1.5\n",
      "1.00 - 0.95"
     ],
     "language": "python",
     "metadata": {},
     "outputs": [
      {
       "metadata": {},
       "output_type": "pyout",
       "prompt_number": 57,
       "text": [
        "0.050000000000000044"
       ]
      }
     ],
     "prompt_number": 57
    },
    {
     "cell_type": "code",
     "collapsed": false,
     "input": [
      "#1.6 \n",
      "0.95 + 0.05"
     ],
     "language": "python",
     "metadata": {},
     "outputs": [
      {
       "metadata": {},
       "output_type": "pyout",
       "prompt_number": 58,
       "text": [
        "1.0"
       ]
      }
     ],
     "prompt_number": 58
    },
    {
     "cell_type": "code",
     "collapsed": false,
     "input": [
      "#1.7\n",
      "5.3 % 5"
     ],
     "language": "python",
     "metadata": {},
     "outputs": [
      {
       "metadata": {},
       "output_type": "pyout",
       "prompt_number": 59,
       "text": [
        "0.2999999999999998"
       ]
      }
     ],
     "prompt_number": 59
    },
    {
     "cell_type": "code",
     "collapsed": false,
     "input": [
      "#1.8\n",
      "5.6 % 5"
     ],
     "language": "python",
     "metadata": {},
     "outputs": [
      {
       "metadata": {},
       "output_type": "pyout",
       "prompt_number": 60,
       "text": [
        "0.5999999999999996"
       ]
      }
     ],
     "prompt_number": 60
    },
    {
     "cell_type": "code",
     "collapsed": false,
     "input": [
      "#1.9\n",
      "2.3 % 2"
     ],
     "language": "python",
     "metadata": {},
     "outputs": [
      {
       "metadata": {},
       "output_type": "pyout",
       "prompt_number": 61,
       "text": [
        "0.2999999999999998"
       ]
      }
     ],
     "prompt_number": 61
    },
    {
     "cell_type": "code",
     "collapsed": false,
     "input": [
      "#1.10\n",
      "2.6 % 2"
     ],
     "language": "python",
     "metadata": {},
     "outputs": [
      {
       "metadata": {},
       "output_type": "pyout",
       "prompt_number": 62,
       "text": [
        "0.6000000000000001"
       ]
      }
     ],
     "prompt_number": 62
    },
    {
     "cell_type": "code",
     "collapsed": false,
     "input": [
      "### Difference in modulo values\n",
      "### Untested Hypothesis: Python currently yielding \n",
      "### float values because 2.6,5.6 are both floating\n",
      "### numbers(I could define the equation as \"eqn\",\n",
      "### define x the solution and specify it\n",
      "### as integer type, and we'd get 1 in both cases)\n",
      "### As it stands Python seems to round up the closer we \n",
      "### get to zero. \n"
     ],
     "language": "python",
     "metadata": {},
     "outputs": [],
     "prompt_number": 63
    },
    {
     "cell_type": "code",
     "collapsed": false,
     "input": [
      "#1.11\n",
      "import math\n",
      "sqrt(4.5 - 5.0) + 7 * 3"
     ],
     "language": "python",
     "metadata": {},
     "outputs": [
      {
       "metadata": {},
       "output_type": "pyout",
       "prompt_number": 64,
       "text": [
        "nan"
       ]
      }
     ],
     "prompt_number": 64
    },
    {
     "cell_type": "code",
     "collapsed": false,
     "input": [
      "### sqrt yields Non_Real value"
     ],
     "language": "python",
     "metadata": {},
     "outputs": [],
     "prompt_number": 65
    },
    {
     "cell_type": "code",
     "collapsed": false,
     "input": [
      "#1.12\n",
      "import math\n",
      "sqrt(5.0/3.0 - 10.0/6.0)"
     ],
     "language": "python",
     "metadata": {},
     "outputs": [
      {
       "metadata": {},
       "output_type": "pyout",
       "prompt_number": 66,
       "text": [
        "0.0"
       ]
      }
     ],
     "prompt_number": 66
    },
    {
     "cell_type": "code",
     "collapsed": false,
     "input": [
      "#1.13 \n",
      "import math\n",
      "sqrt(5.6 % 5.0 - 2.6 % 2.0)"
     ],
     "language": "python",
     "metadata": {},
     "outputs": [
      {
       "metadata": {},
       "output_type": "pyout",
       "prompt_number": 67,
       "text": [
        "nan"
       ]
      }
     ],
     "prompt_number": 67
    },
    {
     "cell_type": "code",
     "collapsed": false,
     "input": [
      "### Python's \"rounding\" yields non-real value\n",
      "### Though, we'd expect one. "
     ],
     "language": "python",
     "metadata": {},
     "outputs": [],
     "prompt_number": 68
    },
    {
     "cell_type": "markdown",
     "metadata": {},
     "source": [
      "### Problem 2\n",
      "Show the list of numbers that would be generated by each of the following range expressions.\n",
      "\n",
      "Note that under Python 3, `range` is a type along with `list` and `tuple`.  So `print(range(5))` will just return `range(5)`.  How can you print out the list of elements of `range(5)` in Python 3?  Do so.\n",
      "\n",
      "1.  `range(5)`\n",
      "2.  `range(3, 10)`\n",
      "3.  `range(4, 13, 3)`\n",
      "4.  `range(15, 5, -2)`\n",
      "5.  `range(5, 3)`"
     ]
    },
    {
     "cell_type": "code",
     "collapsed": false,
     "input": [
      "# Problem 2"
     ],
     "language": "python",
     "metadata": {},
     "outputs": [],
     "prompt_number": 69
    },
    {
     "cell_type": "code",
     "collapsed": false,
     "input": [
      "#2.1\n",
      "x=range(5);\n",
      "print x\n"
     ],
     "language": "python",
     "metadata": {},
     "outputs": [
      {
       "output_type": "stream",
       "stream": "stdout",
       "text": [
        "[0, 1, 2, 3, 4]\n"
       ]
      }
     ],
     "prompt_number": 70
    },
    {
     "cell_type": "code",
     "collapsed": false,
     "input": [
      "#2.2\n",
      "x=range(3, 10);\n",
      "print x\n"
     ],
     "language": "python",
     "metadata": {},
     "outputs": [
      {
       "output_type": "stream",
       "stream": "stdout",
       "text": [
        "[3, 4, 5, 6, 7, 8, 9]\n"
       ]
      }
     ],
     "prompt_number": 71
    },
    {
     "cell_type": "code",
     "collapsed": false,
     "input": [
      "### Note: last indece not included"
     ],
     "language": "python",
     "metadata": {},
     "outputs": [],
     "prompt_number": 72
    },
    {
     "cell_type": "code",
     "collapsed": false,
     "input": [
      "#2.3\n",
      "x=range(4, 13, 3);\n",
      "print x"
     ],
     "language": "python",
     "metadata": {},
     "outputs": [
      {
       "output_type": "stream",
       "stream": "stdout",
       "text": [
        "[4, 7, 10]\n"
       ]
      }
     ],
     "prompt_number": 73
    },
    {
     "cell_type": "code",
     "collapsed": false,
     "input": [
      "### From 4-13 in increments of 3. Again, Range doesn't include\n",
      "### Final indece"
     ],
     "language": "python",
     "metadata": {},
     "outputs": [],
     "prompt_number": 74
    },
    {
     "cell_type": "code",
     "collapsed": false,
     "input": [
      "#2.4\n",
      "x=range(15, 5,-2);\n",
      "print x\n"
     ],
     "language": "python",
     "metadata": {},
     "outputs": [
      {
       "output_type": "stream",
       "stream": "stdout",
       "text": [
        "[15, 13, 11, 9, 7]\n"
       ]
      }
     ],
     "prompt_number": 75
    },
    {
     "cell_type": "code",
     "collapsed": false,
     "input": [
      "### Range allows both ways"
     ],
     "language": "python",
     "metadata": {},
     "outputs": [],
     "prompt_number": 76
    },
    {
     "cell_type": "code",
     "collapsed": false,
     "input": [
      "#2.5\n",
      "x=range(5, 3);\n",
      "print x"
     ],
     "language": "python",
     "metadata": {},
     "outputs": [
      {
       "output_type": "stream",
       "stream": "stdout",
       "text": [
        "[]\n"
       ]
      }
     ],
     "prompt_number": 77
    },
    {
     "cell_type": "code",
     "collapsed": true,
     "input": [
      "###Note:\n",
      "x=range(5,3,-1);\n",
      "print x"
     ],
     "language": "python",
     "metadata": {},
     "outputs": [
      {
       "output_type": "stream",
       "stream": "stdout",
       "text": [
        "[5, 4]\n"
       ]
      }
     ],
     "prompt_number": 78
    },
    {
     "cell_type": "code",
     "collapsed": false,
     "input": [
      "### And:\n",
      "x=range(15, 5);\n",
      "print x\n",
      "\n"
     ],
     "language": "python",
     "metadata": {},
     "outputs": [
      {
       "output_type": "stream",
       "stream": "stdout",
       "text": [
        "[]\n"
       ]
      }
     ],
     "prompt_number": 79
    },
    {
     "cell_type": "code",
     "collapsed": false,
     "input": [
      "### Conclusion: Range in decreasing direcion requires you \n",
      "### to specify increment "
     ],
     "language": "python",
     "metadata": {},
     "outputs": [],
     "prompt_number": 80
    },
    {
     "cell_type": "markdown",
     "metadata": {},
     "source": [
      "### Problem 3\n",
      "Show the output that would be generated by each of the following program fragments.\n",
      "\n",
      "1. ```\n",
      "for i in range(1, 11):\n",
      "      print(i*i)\n",
      "```\n",
      "\n",
      "2. ```\n",
      "for i in [1,3,5,7,9]:\n",
      "      print(i, \":\", i**3)\n",
      "```\n",
      "\n",
      "3. ```\n",
      "x = 2\n",
      "y = 10\n",
      "for j in range(0, y, x):\n",
      "      print(j,)\n",
      "      print(x + y)\n",
      "      print(\"done\")\n",
      "```\n",
      "\n",
      "4. ```\n",
      "ans = 0\n",
      "for i in range(1, 11):\n",
      "      ans = ans + i*i\n",
      "      print(i, ans)\n",
      "```"
     ]
    },
    {
     "cell_type": "code",
     "collapsed": false,
     "input": [
      "###Problem 3 "
     ],
     "language": "python",
     "metadata": {},
     "outputs": [],
     "prompt_number": 81
    },
    {
     "cell_type": "code",
     "collapsed": false,
     "input": [
      "#3.1\n",
      "for i in range(1, 11):\n",
      "   print(i*i)"
     ],
     "language": "python",
     "metadata": {},
     "outputs": [
      {
       "output_type": "stream",
       "stream": "stdout",
       "text": [
        "1\n",
        "4\n",
        "9\n",
        "16\n",
        "25\n",
        "36\n",
        "49\n",
        "64\n",
        "81\n",
        "100\n"
       ]
      }
     ],
     "prompt_number": 82
    },
    {
     "cell_type": "code",
     "collapsed": false,
     "input": [
      "### for each member of the list (1,10),\n",
      "### print the value of the member squared"
     ],
     "language": "python",
     "metadata": {},
     "outputs": [],
     "prompt_number": 83
    },
    {
     "cell_type": "code",
     "collapsed": false,
     "input": [
      "#3.2\n",
      "for i in [1,3,5,7,9]:\n",
      "   print(i, \":\", i**3)"
     ],
     "language": "python",
     "metadata": {},
     "outputs": [
      {
       "output_type": "stream",
       "stream": "stdout",
       "text": [
        "(1, ':', 1)\n",
        "(3, ':', 27)\n",
        "(5, ':', 125)\n",
        "(7, ':', 343)\n",
        "(9, ':', 729)\n"
       ]
      }
     ],
     "prompt_number": 84
    },
    {
     "cell_type": "code",
     "collapsed": false,
     "input": [
      "### For each member of the list (designated by brackets)\n",
      "### Raise it (**) to the 3rd power and print the solution\n",
      "### after printing the member and ':', in that order"
     ],
     "language": "python",
     "metadata": {},
     "outputs": [],
     "prompt_number": 85
    },
    {
     "cell_type": "code",
     "collapsed": false,
     "input": [
      "#3.3\n",
      "x = 2\n",
      "y = 10\n",
      "for j in range(0, y, x):\n",
      "   print(j,)\n",
      "   print(x + y)\n",
      "   print(\"done\")"
     ],
     "language": "python",
     "metadata": {},
     "outputs": [
      {
       "output_type": "stream",
       "stream": "stdout",
       "text": [
        "(0,)\n",
        "12\n",
        "done\n",
        "(2,)\n",
        "12\n",
        "done\n",
        "(4,)\n",
        "12\n",
        "done\n",
        "(6,)\n",
        "12\n",
        "done\n",
        "(8,)\n",
        "12\n",
        "done\n"
       ]
      }
     ],
     "prompt_number": 86
    },
    {
     "cell_type": "code",
     "collapsed": false,
     "input": [
      "### x,y defined. For loop declaration with use of 'in'\n",
      "### assigns current indece value to j\n",
      "### range yields list from 0-10 in increments of 2\n",
      "### (Recall: Range doesn't take upper limit). \n",
      "### Argument prints value ofj in parentheses with a comma.\n",
      "### It then adds x&y which always equals 12,\n",
      "### And finishes by printing 'done'"
     ],
     "language": "python",
     "metadata": {},
     "outputs": [],
     "prompt_number": 87
    },
    {
     "cell_type": "markdown",
     "metadata": {},
     "source": [
      "### Problem 4 : Explore What Zero Can Be on a Computer\n",
      "Type in the following code and run it:\n",
      "```\n",
      "    eps = 1.0\n",
      "    while 1.0 != 1.0 + eps:\n",
      "      print(\"...............\", eps)\n",
      "      eps = eps/2.0\n",
      "    print(\"final eps:\", eps)\n",
      "````\n",
      "\n",
      "Explain with words what the code is doing, line by line. \n",
      "Then examine the output.\n",
      "How can it be that the \"equation\" $1=1+{\\rm eps}$ is not true?\n",
      "Or in other words, that a number of approximately size $10^{-16}$ (the final eps value when the loop terminates) gives the same result as if eps were zero?\n",
      "If somebody shows you this interactive session\n",
      "```\n",
      "    >>> 0.5 + 1.45E-22\n",
      "    0.5\n",
      "```\n",
      "and claims that Python cannot add numbers correctly, what is your answer?"
     ]
    },
    {
     "cell_type": "code",
     "collapsed": false,
     "input": [
      "### Problem 4"
     ],
     "language": "python",
     "metadata": {},
     "outputs": [],
     "prompt_number": 88
    },
    {
     "cell_type": "code",
     "collapsed": false,
     "input": [
      "    eps = 1.0\n",
      "    while 1.0 != 1.0 + eps:\n",
      "      print(\"...............\", eps)\n",
      "      eps = eps/2.0\n",
      "    print(\"final eps:\", eps)"
     ],
     "language": "python",
     "metadata": {},
     "outputs": [
      {
       "output_type": "stream",
       "stream": "stdout",
       "text": [
        "('...............', 1.0)\n",
        "('...............', 0.5)\n",
        "('...............', 0.25)\n",
        "('...............', 0.125)\n",
        "('...............', 0.0625)\n",
        "('...............', 0.03125)\n",
        "('...............', 0.015625)\n",
        "('...............', 0.0078125)\n",
        "('...............', 0.00390625)\n",
        "('...............', 0.001953125)\n",
        "('...............', 0.0009765625)\n",
        "('...............', 0.00048828125)\n",
        "('...............', 0.000244140625)\n",
        "('...............', 0.0001220703125)\n",
        "('...............', 6.103515625e-05)\n",
        "('...............', 3.0517578125e-05)\n",
        "('...............', 1.52587890625e-05)\n",
        "('...............', 7.62939453125e-06)\n",
        "('...............', 3.814697265625e-06)\n",
        "('...............', 1.9073486328125e-06)\n",
        "('...............', 9.5367431640625e-07)\n",
        "('...............', 4.76837158203125e-07)\n",
        "('...............', 2.384185791015625e-07)\n",
        "('...............', 1.1920928955078125e-07)\n",
        "('...............', 5.960464477539063e-08)\n",
        "('...............', 2.9802322387695312e-08)\n",
        "('...............', 1.4901161193847656e-08)\n",
        "('...............', 7.450580596923828e-09)\n",
        "('...............', 3.725290298461914e-09)\n",
        "('...............', 1.862645149230957e-09)\n",
        "('...............', 9.313225746154785e-10)\n",
        "('...............', 4.656612873077393e-10)\n",
        "('...............', 2.3283064365386963e-10)\n",
        "('...............', 1.1641532182693481e-10)\n",
        "('...............', 5.820766091346741e-11)\n",
        "('...............', 2.9103830456733704e-11)\n",
        "('...............', 1.4551915228366852e-11)\n",
        "('...............', 7.275957614183426e-12)\n",
        "('...............', 3.637978807091713e-12)\n",
        "('...............', 1.8189894035458565e-12)\n",
        "('...............', 9.094947017729282e-13)\n",
        "('...............', 4.547473508864641e-13)\n",
        "('...............', 2.2737367544323206e-13)\n",
        "('...............', 1.1368683772161603e-13)\n",
        "('...............', 5.684341886080802e-14)\n",
        "('...............', 2.842170943040401e-14)\n",
        "('...............', 1.4210854715202004e-14)\n",
        "('...............', 7.105427357601002e-15)\n",
        "('...............', 3.552713678800501e-15)\n",
        "('...............', 1.7763568394002505e-15)\n",
        "('...............', 8.881784197001252e-16)\n",
        "('...............', 4.440892098500626e-16)\n",
        "('...............', 2.220446049250313e-16)\n",
        "('final eps:', 1.1102230246251565e-16)\n"
       ]
      }
     ],
     "prompt_number": 89
    },
    {
     "cell_type": "code",
     "collapsed": false,
     "input": [
      "### As long as 1.0 + eps doesn't equal 1.0,\n",
      "### divide it by 2 and print it after series of commas.\n",
      "###The function will continue dividing by two and printing until\n",
      "### eps is \"sufficiently\" close enough to zero for python \n",
      "### to consider it zero. In order to state the value we would expect,\n",
      "### python would have to print something like 34 characters\n",
      "### with the first significant digit being 1 after 16 zeros\n",
      "### I would think python assumes zero at this point so not to \n",
      "### use 'unnecessary' computing power. "
     ],
     "language": "python",
     "metadata": {},
     "outputs": [],
     "prompt_number": 90
    },
    {
     "cell_type": "markdown",
     "metadata": {},
     "source": [
      "### Problem 5\n",
      "Create a Python function that will evaluate each of the following expressions in order and print the results. Your function will need to accept the input values $(x_1, x_2, y_1, y_2)$.\n",
      "\n",
      "1.  $(3+4)(5)$\n",
      "2.  $\\frac{x_1(x_1-1)}{2}$\n",
      "3.  $4\\pi x_2^2$\n",
      "4.  $\\sqrt{x_1(\\cos y_1)^2+x_1(\\sin y_1)^2}$\n",
      "5.  $\\frac{y_2-y_1}{x_2-x_1}$"
     ]
    },
    {
     "cell_type": "code",
     "collapsed": false,
     "input": [
      "import math\n",
      "def arith(x_1,x_2,y_1,y_3):\n",
      "    #5.1\n",
      "    print (3+4)*5;\n",
      "    a=.5*((x_1)*(x_1-1));\n",
      "    print a; \n",
      "    #5.2\n",
      "    b= (x_2**2)*(4*pi);\n",
      "    print b;\n",
      "    #5.3\n",
      "    # defining variables to clean up expression\n",
      "    f=x_1*math.cos(y_1);\n",
      "    g=x_1*math.sin(y_1);\n",
      "    #5.4\n",
      "    c=sqrt((f**2)+(g**2));\n",
      "    print c;\n",
      "    #5.5\n",
      "    h=y_2-y_1;\n",
      "    j=x_2-x_1;\n",
      "    d=h/j;\n",
      "    print d;"
     ],
     "language": "python",
     "metadata": {},
     "outputs": [],
     "prompt_number": 93
    },
    {
     "cell_type": "markdown",
     "metadata": {},
     "source": [
      "### Problem 6 : Celsius to Fahrenheit Conversion\n",
      "Write a Python function that computes and prints a nicely formatted table of Celsius temperatures and the Fahrenheit equivalents every 10 degrees Celsius from 0 to 100 $$^\\circ$$C. The first column should be the Celsius value, the second column should be the Fahrenheit value calculated by $$F=\\frac{9}{5} C + 32$$, and the third column should be the approximate Fahrenheit value calculated with the \u201cdouble it and add 30\u201d rule, that is $$F=2 C + 30$$."
     ]
    },
    {
     "cell_type": "markdown",
     "metadata": {},
     "source": [
      "### Problem 7 : Calculating $\\pi$\n",
      "Write a Python function that approximates the value of $\\pi$ by summing the terms of this series: $$4/1-4/3+4/5-4/7+4/9-4/11+\\cdots$$\n",
      "Have your function subtract the approximation from the value of `math.pi` to see how accurate it is.  How many terms do you need to use to obtain 4 digits of accuracy? How many terms can you include before your calculation takes more than 5 seconds?"
     ]
    },
    {
     "cell_type": "markdown",
     "metadata": {},
     "source": [
      "### Problem 8 : Square Root\n",
      "The Python `math` library contains a function, `math.sqrt`, which computes the square root of numbers. In this exercise, you are to write your own algorithm for computing square roots. One way to solve this problem is to use a guess-and-check approach. You first guess what the square root might be and then see how close your guess is. You can use the information to make another guess and continue guessing until you have found the sure root (or a close approximation of it). One particularly good way of making guesses is to use Newton\u2019s method. Suppose $x$ is the number we want the square root of and ${\\rm guess}$ is the current guessed answer. Then\n",
      "$${\\rm next guess} = \\frac{{\\rm guess}+x/{\\rm guess}}{2}$$\n",
      "will yield an improved next guess.\n",
      "\n",
      "We will investigate Newton's method further in future classes. For now, show analytically that if the guess stops changing, your guess is the correct answer (to the available precision). Write a Python function that implements Newton's method. The template function  includes the value to find the square root of $x$ and the number of times to improve the guess. Starting with a guess value of ${\\rm guess}=2$, your program should loop the specified number of times applying Newton's method and report the final value of guess. You should also subtract your estimate from the value as computed by  `math.sqrt` to show how close it is."
     ]
    },
    {
     "cell_type": "code",
     "collapsed": true,
     "input": [],
     "language": "python",
     "metadata": {},
     "outputs": [],
     "prompt_number": null
    }
   ],
   "metadata": {}
  }
 ]
}